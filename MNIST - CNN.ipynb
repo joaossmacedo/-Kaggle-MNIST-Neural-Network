{
 "cells": [
  {
   "cell_type": "code",
   "execution_count": 1,
   "metadata": {
    "_cell_guid": "b1076dfc-b9ad-4769-8c92-a6c4dae69d19",
    "_uuid": "8f2839f25d086af736a60e9eeb907d3b93b6e0e5",
    "execution": {
     "iopub.execute_input": "2020-08-08T22:28:22.487653Z",
     "iopub.status.busy": "2020-08-08T22:28:22.486687Z",
     "iopub.status.idle": "2020-08-08T22:28:22.492906Z",
     "shell.execute_reply": "2020-08-08T22:28:22.492201Z"
    },
    "papermill": {
     "duration": 0.020063,
     "end_time": "2020-08-08T22:28:22.493049",
     "exception": false,
     "start_time": "2020-08-08T22:28:22.472986",
     "status": "completed"
    },
    "tags": []
   },
   "outputs": [
    {
     "name": "stdout",
     "output_type": "stream",
     "text": [
      "/kaggle/input/digit-recognizer/sample_submission.csv\n",
      "/kaggle/input/digit-recognizer/test.csv\n",
      "/kaggle/input/digit-recognizer/train.csv\n"
     ]
    }
   ],
   "source": [
    "# This Python 3 environment comes with many helpful analytics libraries installed\n",
    "# It is defined by the kaggle/python Docker image: https://github.com/kaggle/docker-python\n",
    "# For example, here's several helpful packages to load\n",
    "\n",
    "import numpy as np # linear algebra\n",
    "import pandas as pd # data processing, CSV file I/O (e.g. pd.read_csv)\n",
    "\n",
    "# Input data files are available in the read-only \"../input/\" directory\n",
    "# For example, running this (by clicking run or pressing Shift+Enter) will list all files under the input directory\n",
    "\n",
    "import os\n",
    "for dirname, _, filenames in os.walk('/kaggle/input'):\n",
    "    for filename in filenames:\n",
    "        print(os.path.join(dirname, filename))\n",
    "\n",
    "# You can write up to 5GB to the current directory (/kaggle/working/) that gets preserved as output when you create a version using \"Save & Run All\" \n",
    "# You can also write temporary files to /kaggle/temp/, but they won't be saved outside of the current session"
   ]
  },
  {
   "cell_type": "markdown",
   "execution_count": null,
   "metadata": {
    "papermill": {
     "duration": 0.006319,
     "end_time": "2020-08-08T22:28:22.506719",
     "exception": false,
     "start_time": "2020-08-08T22:28:22.500400",
     "status": "completed"
    },
    "tags": []
   },
   "source": [
    "# Additional imports"
   ]
  },
  {
   "cell_type": "code",
   "execution_count": 2,
   "metadata": {
    "_cell_guid": "79c7e3d0-c299-4dcb-8224-4455121ee9b0",
    "_uuid": "d629ff2d2480ee46fbb7e2d37f6b5fab8052498a",
    "execution": {
     "iopub.execute_input": "2020-08-08T22:28:22.524531Z",
     "iopub.status.busy": "2020-08-08T22:28:22.523830Z",
     "iopub.status.idle": "2020-08-08T22:28:27.811103Z",
     "shell.execute_reply": "2020-08-08T22:28:27.810152Z"
    },
    "papermill": {
     "duration": 5.297446,
     "end_time": "2020-08-08T22:28:27.811231",
     "exception": false,
     "start_time": "2020-08-08T22:28:22.513785",
     "status": "completed"
    },
    "tags": []
   },
   "outputs": [],
   "source": [
    "import tensorflow as tf\n",
    "from tensorflow import keras\n",
    "\n",
    "import matplotlib.pyplot as plt\n",
    "import matplotlib.cm as cm"
   ]
  },
  {
   "cell_type": "markdown",
   "execution_count": null,
   "metadata": {
    "papermill": {
     "duration": 0.00647,
     "end_time": "2020-08-08T22:28:27.824486",
     "exception": false,
     "start_time": "2020-08-08T22:28:27.818016",
     "status": "completed"
    },
    "tags": []
   },
   "source": [
    "# Preprocessing"
   ]
  },
  {
   "cell_type": "code",
   "execution_count": 3,
   "metadata": {
    "execution": {
     "iopub.execute_input": "2020-08-08T22:28:27.844500Z",
     "iopub.status.busy": "2020-08-08T22:28:27.843394Z",
     "iopub.status.idle": "2020-08-08T22:28:32.973114Z",
     "shell.execute_reply": "2020-08-08T22:28:32.973668Z"
    },
    "papermill": {
     "duration": 5.142626,
     "end_time": "2020-08-08T22:28:32.973827",
     "exception": false,
     "start_time": "2020-08-08T22:28:27.831201",
     "status": "completed"
    },
    "tags": []
   },
   "outputs": [
    {
     "name": "stdout",
     "output_type": "stream",
     "text": [
      "train_data_shape: (42000, 785)\n",
      "test_data_shape: (28000, 784)\n"
     ]
    }
   ],
   "source": [
    "train_data_raw = pd.read_csv('/kaggle/input/digit-recognizer/train.csv')\n",
    "test_data_raw = pd.read_csv('/kaggle/input/digit-recognizer/test.csv')\n",
    "\n",
    "print('train_data_shape: ' + str(train_data_raw.shape))\n",
    "print('test_data_shape: ' + str(test_data_raw.shape))"
   ]
  },
  {
   "cell_type": "markdown",
   "execution_count": null,
   "metadata": {
    "papermill": {
     "duration": 0.007003,
     "end_time": "2020-08-08T22:28:32.989117",
     "exception": false,
     "start_time": "2020-08-08T22:28:32.982114",
     "status": "completed"
    },
    "tags": []
   },
   "source": [
    "### Pre processing data"
   ]
  },
  {
   "cell_type": "code",
   "execution_count": 4,
   "metadata": {
    "execution": {
     "iopub.execute_input": "2020-08-08T22:28:33.012517Z",
     "iopub.status.busy": "2020-08-08T22:28:33.011350Z",
     "iopub.status.idle": "2020-08-08T22:28:33.182097Z",
     "shell.execute_reply": "2020-08-08T22:28:33.182885Z"
    },
    "papermill": {
     "duration": 0.187433,
     "end_time": "2020-08-08T22:28:33.183087",
     "exception": false,
     "start_time": "2020-08-08T22:28:32.995654",
     "status": "completed"
    },
    "tags": []
   },
   "outputs": [
    {
     "name": "stdout",
     "output_type": "stream",
     "text": [
      "(42000, 28, 28, 1)\n",
      "[[[[0.]\n",
      "   [0.]\n",
      "   [0.]\n",
      "   ...\n",
      "   [0.]\n",
      "   [0.]\n",
      "   [0.]]\n",
      "\n",
      "  [[0.]\n",
      "   [0.]\n",
      "   [0.]\n",
      "   ...\n",
      "   [0.]\n",
      "   [0.]\n",
      "   [0.]]\n",
      "\n",
      "  [[0.]\n",
      "   [0.]\n",
      "   [0.]\n",
      "   ...\n",
      "   [0.]\n",
      "   [0.]\n",
      "   [0.]]\n",
      "\n",
      "  ...\n",
      "\n",
      "  [[0.]\n",
      "   [0.]\n",
      "   [0.]\n",
      "   ...\n",
      "   [0.]\n",
      "   [0.]\n",
      "   [0.]]\n",
      "\n",
      "  [[0.]\n",
      "   [0.]\n",
      "   [0.]\n",
      "   ...\n",
      "   [0.]\n",
      "   [0.]\n",
      "   [0.]]\n",
      "\n",
      "  [[0.]\n",
      "   [0.]\n",
      "   [0.]\n",
      "   ...\n",
      "   [0.]\n",
      "   [0.]\n",
      "   [0.]]]\n",
      "\n",
      "\n",
      " [[[0.]\n",
      "   [0.]\n",
      "   [0.]\n",
      "   ...\n",
      "   [0.]\n",
      "   [0.]\n",
      "   [0.]]\n",
      "\n",
      "  [[0.]\n",
      "   [0.]\n",
      "   [0.]\n",
      "   ...\n",
      "   [0.]\n",
      "   [0.]\n",
      "   [0.]]\n",
      "\n",
      "  [[0.]\n",
      "   [0.]\n",
      "   [0.]\n",
      "   ...\n",
      "   [0.]\n",
      "   [0.]\n",
      "   [0.]]\n",
      "\n",
      "  ...\n",
      "\n",
      "  [[0.]\n",
      "   [0.]\n",
      "   [0.]\n",
      "   ...\n",
      "   [0.]\n",
      "   [0.]\n",
      "   [0.]]\n",
      "\n",
      "  [[0.]\n",
      "   [0.]\n",
      "   [0.]\n",
      "   ...\n",
      "   [0.]\n",
      "   [0.]\n",
      "   [0.]]\n",
      "\n",
      "  [[0.]\n",
      "   [0.]\n",
      "   [0.]\n",
      "   ...\n",
      "   [0.]\n",
      "   [0.]\n",
      "   [0.]]]\n",
      "\n",
      "\n",
      " [[[0.]\n",
      "   [0.]\n",
      "   [0.]\n",
      "   ...\n",
      "   [0.]\n",
      "   [0.]\n",
      "   [0.]]\n",
      "\n",
      "  [[0.]\n",
      "   [0.]\n",
      "   [0.]\n",
      "   ...\n",
      "   [0.]\n",
      "   [0.]\n",
      "   [0.]]\n",
      "\n",
      "  [[0.]\n",
      "   [0.]\n",
      "   [0.]\n",
      "   ...\n",
      "   [0.]\n",
      "   [0.]\n",
      "   [0.]]\n",
      "\n",
      "  ...\n",
      "\n",
      "  [[0.]\n",
      "   [0.]\n",
      "   [0.]\n",
      "   ...\n",
      "   [0.]\n",
      "   [0.]\n",
      "   [0.]]\n",
      "\n",
      "  [[0.]\n",
      "   [0.]\n",
      "   [0.]\n",
      "   ...\n",
      "   [0.]\n",
      "   [0.]\n",
      "   [0.]]\n",
      "\n",
      "  [[0.]\n",
      "   [0.]\n",
      "   [0.]\n",
      "   ...\n",
      "   [0.]\n",
      "   [0.]\n",
      "   [0.]]]\n",
      "\n",
      "\n",
      " ...\n",
      "\n",
      "\n",
      " [[[0.]\n",
      "   [0.]\n",
      "   [0.]\n",
      "   ...\n",
      "   [0.]\n",
      "   [0.]\n",
      "   [0.]]\n",
      "\n",
      "  [[0.]\n",
      "   [0.]\n",
      "   [0.]\n",
      "   ...\n",
      "   [0.]\n",
      "   [0.]\n",
      "   [0.]]\n",
      "\n",
      "  [[0.]\n",
      "   [0.]\n",
      "   [0.]\n",
      "   ...\n",
      "   [0.]\n",
      "   [0.]\n",
      "   [0.]]\n",
      "\n",
      "  ...\n",
      "\n",
      "  [[0.]\n",
      "   [0.]\n",
      "   [0.]\n",
      "   ...\n",
      "   [0.]\n",
      "   [0.]\n",
      "   [0.]]\n",
      "\n",
      "  [[0.]\n",
      "   [0.]\n",
      "   [0.]\n",
      "   ...\n",
      "   [0.]\n",
      "   [0.]\n",
      "   [0.]]\n",
      "\n",
      "  [[0.]\n",
      "   [0.]\n",
      "   [0.]\n",
      "   ...\n",
      "   [0.]\n",
      "   [0.]\n",
      "   [0.]]]\n",
      "\n",
      "\n",
      " [[[0.]\n",
      "   [0.]\n",
      "   [0.]\n",
      "   ...\n",
      "   [0.]\n",
      "   [0.]\n",
      "   [0.]]\n",
      "\n",
      "  [[0.]\n",
      "   [0.]\n",
      "   [0.]\n",
      "   ...\n",
      "   [0.]\n",
      "   [0.]\n",
      "   [0.]]\n",
      "\n",
      "  [[0.]\n",
      "   [0.]\n",
      "   [0.]\n",
      "   ...\n",
      "   [0.]\n",
      "   [0.]\n",
      "   [0.]]\n",
      "\n",
      "  ...\n",
      "\n",
      "  [[0.]\n",
      "   [0.]\n",
      "   [0.]\n",
      "   ...\n",
      "   [0.]\n",
      "   [0.]\n",
      "   [0.]]\n",
      "\n",
      "  [[0.]\n",
      "   [0.]\n",
      "   [0.]\n",
      "   ...\n",
      "   [0.]\n",
      "   [0.]\n",
      "   [0.]]\n",
      "\n",
      "  [[0.]\n",
      "   [0.]\n",
      "   [0.]\n",
      "   ...\n",
      "   [0.]\n",
      "   [0.]\n",
      "   [0.]]]\n",
      "\n",
      "\n",
      " [[[0.]\n",
      "   [0.]\n",
      "   [0.]\n",
      "   ...\n",
      "   [0.]\n",
      "   [0.]\n",
      "   [0.]]\n",
      "\n",
      "  [[0.]\n",
      "   [0.]\n",
      "   [0.]\n",
      "   ...\n",
      "   [0.]\n",
      "   [0.]\n",
      "   [0.]]\n",
      "\n",
      "  [[0.]\n",
      "   [0.]\n",
      "   [0.]\n",
      "   ...\n",
      "   [0.]\n",
      "   [0.]\n",
      "   [0.]]\n",
      "\n",
      "  ...\n",
      "\n",
      "  [[0.]\n",
      "   [0.]\n",
      "   [0.]\n",
      "   ...\n",
      "   [0.]\n",
      "   [0.]\n",
      "   [0.]]\n",
      "\n",
      "  [[0.]\n",
      "   [0.]\n",
      "   [0.]\n",
      "   ...\n",
      "   [0.]\n",
      "   [0.]\n",
      "   [0.]]\n",
      "\n",
      "  [[0.]\n",
      "   [0.]\n",
      "   [0.]\n",
      "   ...\n",
      "   [0.]\n",
      "   [0.]\n",
      "   [0.]]]]\n"
     ]
    }
   ],
   "source": [
    "def pre_process_data(dataset, has_label=True):\n",
    "    if has_label:\n",
    "        data = dataset.iloc[:,1:].values\n",
    "    else:\n",
    "        data = dataset.iloc[:,:].values\n",
    "        \n",
    "    data = data.astype(np.float)\n",
    "    \n",
    "    data = np.multiply(data, 1.0 / 255.0)\n",
    "    data = data.reshape(data.shape[:1] + (28, 28, 1))\n",
    "#     data = data.reshape(dataset.shape[0], 28, 28)\n",
    "        \n",
    "    return data\n",
    "\n",
    "train_images = pre_process_data(train_data_raw)\n",
    "\n",
    "print(train_images.shape)\n",
    "print(train_images)"
   ]
  },
  {
   "cell_type": "markdown",
   "execution_count": null,
   "metadata": {
    "papermill": {
     "duration": 0.00741,
     "end_time": "2020-08-08T22:28:33.199568",
     "exception": false,
     "start_time": "2020-08-08T22:28:33.192158",
     "status": "completed"
    },
    "tags": []
   },
   "source": [
    "### Pre processing labels"
   ]
  },
  {
   "cell_type": "code",
   "execution_count": 5,
   "metadata": {
    "execution": {
     "iopub.execute_input": "2020-08-08T22:28:33.223994Z",
     "iopub.status.busy": "2020-08-08T22:28:33.223081Z",
     "iopub.status.idle": "2020-08-08T22:28:33.236891Z",
     "shell.execute_reply": "2020-08-08T22:28:33.236142Z"
    },
    "papermill": {
     "duration": 0.029832,
     "end_time": "2020-08-08T22:28:33.237055",
     "exception": false,
     "start_time": "2020-08-08T22:28:33.207223",
     "status": "completed"
    },
    "tags": []
   },
   "outputs": [
    {
     "name": "stdout",
     "output_type": "stream",
     "text": [
      "(42000, 10)\n",
      "[[0 1 0 ... 0 0 0]\n",
      " [1 0 0 ... 0 0 0]\n",
      " [0 1 0 ... 0 0 0]\n",
      " ...\n",
      " [0 0 0 ... 1 0 0]\n",
      " [0 0 0 ... 0 0 0]\n",
      " [0 0 0 ... 0 0 1]]\n"
     ]
    }
   ],
   "source": [
    "def pre_process_labels(data):\n",
    "    labels_flat = data.iloc[:,0].values.ravel()\n",
    "    num_classes = np.unique(labels_flat).shape[0]\n",
    "    \n",
    "    num_labels = labels_flat.shape[0]\n",
    "    index_offset = np.arange(num_labels) * num_classes\n",
    "    labels_one_hot = np.zeros((num_labels, num_classes))\n",
    "    labels_one_hot.flat[index_offset + labels_flat.ravel()] = 1\n",
    "\n",
    "    return labels_one_hot.astype(np.uint8)\n",
    "\n",
    "train_labels = pre_process_labels(train_data_raw)\n",
    "\n",
    "print(train_labels.shape)\n",
    "print(train_labels)"
   ]
  },
  {
   "cell_type": "markdown",
   "execution_count": null,
   "metadata": {
    "papermill": {
     "duration": 0.007212,
     "end_time": "2020-08-08T22:28:33.252165",
     "exception": false,
     "start_time": "2020-08-08T22:28:33.244953",
     "status": "completed"
    },
    "tags": []
   },
   "source": [
    "# Showing data"
   ]
  },
  {
   "cell_type": "code",
   "execution_count": 6,
   "metadata": {
    "execution": {
     "iopub.execute_input": "2020-08-08T22:28:33.272608Z",
     "iopub.status.busy": "2020-08-08T22:28:33.271860Z",
     "iopub.status.idle": "2020-08-08T22:28:33.362290Z",
     "shell.execute_reply": "2020-08-08T22:28:33.361681Z"
    },
    "papermill": {
     "duration": 0.103351,
     "end_time": "2020-08-08T22:28:33.362414",
     "exception": false,
     "start_time": "2020-08-08T22:28:33.259063",
     "status": "completed"
    },
    "tags": []
   },
   "outputs": [
    {
     "data": {
      "image/png": "[encoded data removed]",
      "text/plain": [
       "<Figure size 432x288 with 1 Axes>"
      ]
     },
     "metadata": {
      "needs_background": "light"
     },
     "output_type": "display_data"
    }
   ],
   "source": [
    "def display(img):\n",
    "    height = width = int(img.shape[0])\n",
    "\n",
    "    # (784) => (28,28)\n",
    "    one_image = img.reshape(width, height)\n",
    "    \n",
    "    plt.axis('off')\n",
    "    plt.imshow(one_image, cmap=cm.binary)\n",
    "\n",
    "display(train_images[7])"
   ]
  },
  {
   "cell_type": "code",
   "execution_count": 7,
   "metadata": {
    "execution": {
     "iopub.execute_input": "2020-08-08T22:28:33.384458Z",
     "iopub.status.busy": "2020-08-08T22:28:33.383746Z",
     "iopub.status.idle": "2020-08-08T22:28:33.389574Z",
     "shell.execute_reply": "2020-08-08T22:28:33.388683Z"
    },
    "papermill": {
     "duration": 0.018543,
     "end_time": "2020-08-08T22:28:33.389745",
     "exception": false,
     "start_time": "2020-08-08T22:28:33.371202",
     "status": "completed"
    },
    "tags": []
   },
   "outputs": [
    {
     "name": "stdout",
     "output_type": "stream",
     "text": [
      "Images shape: (42000, 28, 28, 1)\n",
      "Labels shape: (42000, 10)\n"
     ]
    }
   ],
   "source": [
    "print(\"Images shape: \" + str(train_images.shape))\n",
    "print(\"Labels shape: \" + str(train_labels.shape))"
   ]
  },
  {
   "cell_type": "markdown",
   "execution_count": null,
   "metadata": {
    "papermill": {
     "duration": 0.007377,
     "end_time": "2020-08-08T22:28:33.405624",
     "exception": false,
     "start_time": "2020-08-08T22:28:33.398247",
     "status": "completed"
    },
    "tags": []
   },
   "source": [
    "# Model"
   ]
  },
  {
   "cell_type": "code",
   "execution_count": 8,
   "metadata": {
    "execution": {
     "iopub.execute_input": "2020-08-08T22:28:33.430446Z",
     "iopub.status.busy": "2020-08-08T22:28:33.429481Z",
     "iopub.status.idle": "2020-08-08T22:28:33.432519Z",
     "shell.execute_reply": "2020-08-08T22:28:33.431893Z"
    },
    "papermill": {
     "duration": 0.019746,
     "end_time": "2020-08-08T22:28:33.432645",
     "exception": false,
     "start_time": "2020-08-08T22:28:33.412899",
     "status": "completed"
    },
    "tags": []
   },
   "outputs": [],
   "source": [
    "def show_history(history):\n",
    "    fig, ax = plt.subplots(1, 2, figsize=(15,5))\n",
    "    ax[0].set_title('loss')\n",
    "    ax[0].plot(history.epoch, history.history[\"loss\"], label=\"Train loss\")\n",
    "    ax[0].plot(history.epoch, history.history[\"val_loss\"], label=\"Validation loss\")\n",
    "    ax[1].set_title('acc')\n",
    "    ax[1].plot(history.epoch, history.history[\"accuracy\"], label=\"Train acc\")\n",
    "    ax[1].plot(history.epoch, history.history[\"val_accuracy\"], label=\"Validation acc\")\n",
    "    ax[0].legend()\n",
    "    ax[1].legend()"
   ]
  },
  {
   "cell_type": "code",
   "execution_count": 9,
   "metadata": {
    "execution": {
     "iopub.execute_input": "2020-08-08T22:28:33.470344Z",
     "iopub.status.busy": "2020-08-08T22:28:33.469439Z",
     "iopub.status.idle": "2020-08-08T22:28:33.472307Z",
     "shell.execute_reply": "2020-08-08T22:28:33.471800Z"
    },
    "papermill": {
     "duration": 0.032076,
     "end_time": "2020-08-08T22:28:33.472406",
     "exception": false,
     "start_time": "2020-08-08T22:28:33.440330",
     "status": "completed"
    },
    "tags": []
   },
   "outputs": [],
   "source": [
    "def fit(train_images, train_labels, config):\n",
    "    NUM_EPOCHS = config['NUM_EPOCHS']\n",
    "    BATCH_SIZE = config['BATCH_SIZE']\n",
    "    LEARNING_RATE = config['LEARNING_RATE']\n",
    "    DROPOUT_RATE = config['DROPOUT_RATE']\n",
    "    NETWORK_WIDTH = config['NETWORK_WIDTH']\n",
    "    \n",
    "    initializer = tf.keras.initializers.GlorotNormal()\n",
    "    \n",
    "    model = keras.models.Sequential([\n",
    "        keras.layers.Conv2D(32,kernel_size=(3, 3),activation='swish',kernel_initializer=initializer, input_shape=(28,28,1), use_bias=True),\n",
    "        keras.layers.Conv2D(32,kernel_size=(3,3), activation='swish',kernel_initializer=initializer, use_bias=True),\n",
    "        keras.layers.MaxPooling2D(pool_size=(2,2)),\n",
    "        keras.layers.Dropout(DROPOUT_RATE),\n",
    "        keras.layers.Conv2D(64,(3, 3),activation='swish', padding='same', use_bias=True),\n",
    "        keras.layers.MaxPooling2D(pool_size=(2,2)),\n",
    "        keras.layers.Dropout(DROPOUT_RATE),\n",
    "        keras.layers.Conv2D(512,(3, 3),activation='swish', padding='same', use_bias=True),\n",
    "        keras.layers.MaxPooling2D(pool_size=(2,2)),\n",
    "        keras.layers.Dropout(DROPOUT_RATE),\n",
    "        keras.layers.Conv2D(256,(2, 2),activation='swish', padding='same', use_bias=True),\n",
    "        keras.layers.MaxPooling2D(pool_size=(2,2)),\n",
    "        keras.layers.Dropout(DROPOUT_RATE),\n",
    "        keras.layers.Flatten(),\n",
    "        keras.layers.Dense(128,activation='swish', kernel_regularizer =tf.keras.regularizers.l1(l=0.01)),\n",
    "#         keras.layers.BatchNormalization(),\n",
    "        keras.layers.Dropout(DROPOUT_RATE),\n",
    "        keras.layers.Dense(10, activation=tf.nn.softmax),\n",
    "    ])\n",
    "\n",
    "    \n",
    "\n",
    "    \n",
    "    opt = tf.keras.optimizers.Adam(learning_rate=LEARNING_RATE)\n",
    "    loss = tf.keras.losses.CategoricalCrossentropy()\n",
    "\n",
    "    model.compile(\n",
    "        optimizer=opt,\n",
    "        loss=loss,\n",
    "        metrics=['accuracy']\n",
    "    )\n",
    "\n",
    "    \n",
    "    val_size = int(train_images.shape[0] * 0.2)\n",
    "\n",
    "    val_images = train_images[:val_size,:, :]\n",
    "    val_labels = train_labels[:val_size,:]\n",
    "\n",
    "    train_images = train_images[val_size:,:, :]\n",
    "    train_labels = train_labels[val_size:,:]\n",
    "\n",
    "    hist = model.fit(\n",
    "        x=train_images, y=train_labels,\n",
    "        epochs=NUM_EPOCHS,\n",
    "        batch_size=BATCH_SIZE,\n",
    "        validation_steps=10,\n",
    "        validation_data=(val_images, val_labels),\n",
    "        verbose=1\n",
    "    )\n",
    "    \n",
    "    show_history(hist)\n",
    "    \n",
    "    loss, acc = model.evaluate(val_images, val_labels)\n",
    "    \n",
    "    return model, loss, acc"
   ]
  },
  {
   "cell_type": "code",
   "execution_count": 10,
   "metadata": {
    "execution": {
     "iopub.execute_input": "2020-08-08T22:28:33.492967Z",
     "iopub.status.busy": "2020-08-08T22:28:33.492349Z",
     "iopub.status.idle": "2020-08-08T22:31:09.737011Z",
     "shell.execute_reply": "2020-08-08T22:31:09.736455Z"
    },
    "papermill": {
     "duration": 156.257409,
     "end_time": "2020-08-08T22:31:09.737148",
     "exception": false,
     "start_time": "2020-08-08T22:28:33.479739",
     "status": "completed"
    },
    "tags": []
   },
   "outputs": [
    {
     "name": "stdout",
     "output_type": "stream",
     "text": [
      "Epoch 1/50\n",
      "263/263 [==============================] - 3s 13ms/step - loss: 4.6860 - accuracy: 0.7418 - val_loss: 0.6772 - val_accuracy: 0.9508\n",
      "Epoch 2/50\n",
      "263/263 [==============================] - 3s 11ms/step - loss: 0.6712 - accuracy: 0.9265 - val_loss: 0.4977 - val_accuracy: 0.9680\n",
      "Epoch 3/50\n",
      "263/263 [==============================] - 3s 11ms/step - loss: 0.5449 - accuracy: 0.9479 - val_loss: 0.4140 - val_accuracy: 0.9844\n",
      "Epoch 4/50\n",
      "263/263 [==============================] - 3s 12ms/step - loss: 0.4908 - accuracy: 0.9554 - val_loss: 0.4037 - val_accuracy: 0.9812\n",
      "Epoch 5/50\n",
      "263/263 [==============================] - 3s 11ms/step - loss: 0.4538 - accuracy: 0.9619 - val_loss: 0.3489 - val_accuracy: 0.9844\n",
      "Epoch 6/50\n",
      "263/263 [==============================] - 3s 11ms/step - loss: 0.4329 - accuracy: 0.9669 - val_loss: 0.3586 - val_accuracy: 0.9797\n",
      "Epoch 7/50\n",
      "263/263 [==============================] - 3s 11ms/step - loss: 0.4091 - accuracy: 0.9695 - val_loss: 0.3646 - val_accuracy: 0.9836\n",
      "Epoch 8/50\n",
      "263/263 [==============================] - 3s 11ms/step - loss: 0.4025 - accuracy: 0.9719 - val_loss: 0.3620 - val_accuracy: 0.9805\n",
      "Epoch 9/50\n",
      "263/263 [==============================] - 3s 11ms/step - loss: 0.3894 - accuracy: 0.9729 - val_loss: 0.3295 - val_accuracy: 0.9883\n",
      "Epoch 10/50\n",
      "263/263 [==============================] - 3s 11ms/step - loss: 0.3809 - accuracy: 0.9751 - val_loss: 0.3069 - val_accuracy: 0.9883\n",
      "Epoch 11/50\n",
      "263/263 [==============================] - 3s 11ms/step - loss: 0.3678 - accuracy: 0.9757 - val_loss: 0.2896 - val_accuracy: 0.9914\n",
      "Epoch 12/50\n",
      "263/263 [==============================] - 3s 11ms/step - loss: 0.3714 - accuracy: 0.9773 - val_loss: 0.3473 - val_accuracy: 0.9883\n",
      "Epoch 13/50\n",
      "263/263 [==============================] - 3s 11ms/step - loss: 0.3613 - accuracy: 0.9781 - val_loss: 0.3524 - val_accuracy: 0.9852\n",
      "Epoch 14/50\n",
      "263/263 [==============================] - 3s 11ms/step - loss: 0.3597 - accuracy: 0.9785 - val_loss: 0.3196 - val_accuracy: 0.9914\n",
      "Epoch 15/50\n",
      "263/263 [==============================] - 3s 11ms/step - loss: 0.3518 - accuracy: 0.9797 - val_loss: 0.3611 - val_accuracy: 0.9859\n",
      "Epoch 16/50\n",
      "263/263 [==============================] - 3s 11ms/step - loss: 0.3419 - accuracy: 0.9815 - val_loss: 0.3269 - val_accuracy: 0.9914\n",
      "Epoch 17/50\n",
      "263/263 [==============================] - 3s 11ms/step - loss: 0.3383 - accuracy: 0.9815 - val_loss: 0.3326 - val_accuracy: 0.9914\n",
      "Epoch 18/50\n",
      "263/263 [==============================] - 3s 11ms/step - loss: 0.3582 - accuracy: 0.9806 - val_loss: 0.3249 - val_accuracy: 0.9906\n",
      "Epoch 19/50\n",
      "263/263 [==============================] - 3s 11ms/step - loss: 0.3408 - accuracy: 0.9827 - val_loss: 0.3056 - val_accuracy: 0.9914\n",
      "Epoch 20/50\n",
      "263/263 [==============================] - 3s 11ms/step - loss: 0.3569 - accuracy: 0.9816 - val_loss: 0.3209 - val_accuracy: 0.9922\n",
      "Epoch 21/50\n",
      "263/263 [==============================] - 3s 11ms/step - loss: 0.3191 - accuracy: 0.9836 - val_loss: 0.2827 - val_accuracy: 0.9898\n",
      "Epoch 22/50\n",
      "263/263 [==============================] - 3s 11ms/step - loss: 0.3091 - accuracy: 0.9843 - val_loss: 0.2697 - val_accuracy: 0.9906\n",
      "Epoch 23/50\n",
      "263/263 [==============================] - 3s 11ms/step - loss: 0.3292 - accuracy: 0.9832 - val_loss: 0.3091 - val_accuracy: 0.9906\n",
      "Epoch 24/50\n",
      "263/263 [==============================] - 3s 12ms/step - loss: 0.3308 - accuracy: 0.9852 - val_loss: 0.3014 - val_accuracy: 0.9875\n",
      "Epoch 25/50\n",
      "263/263 [==============================] - 3s 11ms/step - loss: 0.3206 - accuracy: 0.9852 - val_loss: 0.2888 - val_accuracy: 0.9930\n",
      "Epoch 26/50\n",
      "263/263 [==============================] - 3s 11ms/step - loss: 0.3403 - accuracy: 0.9850 - val_loss: 0.3417 - val_accuracy: 0.9930\n",
      "Epoch 27/50\n",
      "263/263 [==============================] - 3s 11ms/step - loss: 0.3033 - accuracy: 0.9860 - val_loss: 0.3127 - val_accuracy: 0.9883\n",
      "Epoch 28/50\n",
      "263/263 [==============================] - 3s 11ms/step - loss: 0.3281 - accuracy: 0.9849 - val_loss: 0.2831 - val_accuracy: 0.9922\n",
      "Epoch 29/50\n",
      "263/263 [==============================] - 3s 11ms/step - loss: 0.3270 - accuracy: 0.9851 - val_loss: 0.3556 - val_accuracy: 0.9914\n",
      "Epoch 30/50\n",
      "263/263 [==============================] - 3s 11ms/step - loss: 0.3081 - accuracy: 0.9859 - val_loss: 0.2811 - val_accuracy: 0.9937\n",
      "Epoch 31/50\n",
      "263/263 [==============================] - 3s 11ms/step - loss: 0.3089 - accuracy: 0.9866 - val_loss: 0.3422 - val_accuracy: 0.9914\n",
      "Epoch 32/50\n",
      "263/263 [==============================] - 3s 11ms/step - loss: 0.3267 - accuracy: 0.9857 - val_loss: 0.4211 - val_accuracy: 0.9891\n",
      "Epoch 33/50\n",
      "263/263 [==============================] - 3s 11ms/step - loss: 0.3246 - accuracy: 0.9866 - val_loss: 0.3926 - val_accuracy: 0.9914\n",
      "Epoch 34/50\n",
      "263/263 [==============================] - 3s 12ms/step - loss: 0.2961 - accuracy: 0.9870 - val_loss: 0.3205 - val_accuracy: 0.9875\n",
      "Epoch 35/50\n",
      "263/263 [==============================] - 3s 11ms/step - loss: 0.3274 - accuracy: 0.9872 - val_loss: 0.2828 - val_accuracy: 0.9930\n",
      "Epoch 36/50\n",
      "263/263 [==============================] - 3s 11ms/step - loss: 0.2891 - accuracy: 0.9892 - val_loss: 0.2160 - val_accuracy: 0.9922\n",
      "Epoch 37/50\n",
      "263/263 [==============================] - 3s 11ms/step - loss: 0.2938 - accuracy: 0.9878 - val_loss: 0.3898 - val_accuracy: 0.9937\n",
      "Epoch 38/50\n",
      "263/263 [==============================] - 3s 11ms/step - loss: 0.3431 - accuracy: 0.9858 - val_loss: 0.2999 - val_accuracy: 0.9922\n",
      "Epoch 39/50\n",
      "263/263 [==============================] - 3s 11ms/step - loss: 0.2972 - accuracy: 0.9892 - val_loss: 0.2568 - val_accuracy: 0.9906\n",
      "Epoch 40/50\n",
      "263/263 [==============================] - 3s 11ms/step - loss: 0.3138 - accuracy: 0.9870 - val_loss: 0.2698 - val_accuracy: 0.9906\n",
      "Epoch 41/50\n",
      "263/263 [==============================] - 3s 11ms/step - loss: 0.3085 - accuracy: 0.9879 - val_loss: 0.2410 - val_accuracy: 0.9891\n",
      "Epoch 42/50\n",
      "263/263 [==============================] - 3s 11ms/step - loss: 0.3037 - accuracy: 0.9879 - val_loss: 0.2694 - val_accuracy: 0.9914\n",
      "Epoch 43/50\n",
      "263/263 [==============================] - 3s 11ms/step - loss: 0.3166 - accuracy: 0.9874 - val_loss: 0.2762 - val_accuracy: 0.9937\n",
      "Epoch 44/50\n",
      "263/263 [==============================] - 3s 11ms/step - loss: 0.3241 - accuracy: 0.9882 - val_loss: 0.2654 - val_accuracy: 0.9937\n",
      "Epoch 45/50\n",
      "263/263 [==============================] - 3s 13ms/step - loss: 0.3038 - accuracy: 0.9890 - val_loss: 0.2702 - val_accuracy: 0.9945\n",
      "Epoch 46/50\n",
      "263/263 [==============================] - 3s 11ms/step - loss: 0.3280 - accuracy: 0.9882 - val_loss: 0.3008 - val_accuracy: 0.9906\n",
      "Epoch 47/50\n",
      "263/263 [==============================] - 3s 11ms/step - loss: 0.2940 - accuracy: 0.9888 - val_loss: 0.2921 - val_accuracy: 0.9906\n",
      "Epoch 48/50\n",
      "263/263 [==============================] - 3s 11ms/step - loss: 0.3170 - accuracy: 0.9890 - val_loss: 0.2603 - val_accuracy: 0.9945\n",
      "Epoch 49/50\n",
      "263/263 [==============================] - 3s 11ms/step - loss: 0.3189 - accuracy: 0.9878 - val_loss: 0.2826 - val_accuracy: 0.9937\n",
      "Epoch 50/50\n",
      "263/263 [==============================] - 3s 11ms/step - loss: 0.3129 - accuracy: 0.9892 - val_loss: 0.3080 - val_accuracy: 0.9945\n",
      "263/263 [==============================] - 1s 3ms/step - loss: 0.3260 - accuracy: 0.9919\n",
      "Accuracy: 99.19047355651855%\n"
     ]
    },
    {
     "data": {
      "image/png": "[encoded data removed]",
      "text/plain": [
       "<Figure size 1080x360 with 2 Axes>"
      ]
     },
     "metadata": {
      "needs_background": "light"
     },
     "output_type": "display_data"
    }
   ],
   "source": [
    "config = {\n",
    "    'BATCH_SIZE': 128,\n",
    "    'LEARNING_RATE': 0.001,\n",
    "    'DROPOUT_RATE': 0.4,\n",
    "    'NUM_EPOCHS': 50,\n",
    "    'NETWORK_WIDTH': 512\n",
    "}\n",
    "\n",
    "model, loss, acc = fit(train_images, train_labels, config)\n",
    "\n",
    "print('Accuracy: ' + str(acc * 100) + '%')"
   ]
  },
  {
   "cell_type": "markdown",
   "execution_count": null,
   "metadata": {
    "papermill": {
     "duration": 0.216502,
     "end_time": "2020-08-08T22:31:10.125825",
     "exception": false,
     "start_time": "2020-08-08T22:31:09.909323",
     "status": "completed"
    },
    "tags": []
   },
   "source": [
    "# Predicting"
   ]
  },
  {
   "cell_type": "code",
   "execution_count": 11,
   "metadata": {
    "execution": {
     "iopub.execute_input": "2020-08-08T22:31:10.457353Z",
     "iopub.status.busy": "2020-08-08T22:31:10.456143Z",
     "iopub.status.idle": "2020-08-08T22:31:10.570737Z",
     "shell.execute_reply": "2020-08-08T22:31:10.571224Z"
    },
    "papermill": {
     "duration": 0.280685,
     "end_time": "2020-08-08T22:31:10.571366",
     "exception": false,
     "start_time": "2020-08-08T22:31:10.290681",
     "status": "completed"
    },
    "tags": []
   },
   "outputs": [
    {
     "data": {
      "text/plain": [
       "(28000, 28, 28, 1)"
      ]
     },
     "execution_count": 11,
     "metadata": {},
     "output_type": "execute_result"
    }
   ],
   "source": [
    "test_data = pre_process_data(test_data_raw, False)\n",
    "\n",
    "test_data.shape"
   ]
  },
  {
   "cell_type": "code",
   "execution_count": 12,
   "metadata": {
    "execution": {
     "iopub.execute_input": "2020-08-08T22:31:10.899694Z",
     "iopub.status.busy": "2020-08-08T22:31:10.898659Z",
     "iopub.status.idle": "2020-08-08T22:31:12.171004Z",
     "shell.execute_reply": "2020-08-08T22:31:12.169723Z"
    },
    "papermill": {
     "duration": 1.43942,
     "end_time": "2020-08-08T22:31:12.171156",
     "exception": false,
     "start_time": "2020-08-08T22:31:10.731736",
     "status": "completed"
    },
    "tags": []
   },
   "outputs": [],
   "source": [
    "predictions = model.predict(test_data)"
   ]
  },
  {
   "cell_type": "code",
   "execution_count": 13,
   "metadata": {
    "execution": {
     "iopub.execute_input": "2020-08-08T22:31:12.504102Z",
     "iopub.status.busy": "2020-08-08T22:31:12.503380Z",
     "iopub.status.idle": "2020-08-08T22:31:12.508908Z",
     "shell.execute_reply": "2020-08-08T22:31:12.509447Z"
    },
    "papermill": {
     "duration": 0.174171,
     "end_time": "2020-08-08T22:31:12.509610",
     "exception": false,
     "start_time": "2020-08-08T22:31:12.335439",
     "status": "completed"
    },
    "tags": []
   },
   "outputs": [
    {
     "data": {
      "text/plain": [
       "array([[1.2291767e-15, 5.2734959e-29, 1.0000000e+00, ..., 4.0491580e-17,\n",
       "        1.0163348e-19, 1.3959290e-24],\n",
       "       [9.9999988e-01, 1.8890670e-12, 9.8684938e-10, ..., 4.7466485e-13,\n",
       "        1.8201284e-08, 6.2172534e-10],\n",
       "       [3.4409409e-14, 9.7467685e-22, 2.3501975e-16, ..., 1.5148690e-15,\n",
       "        5.0388704e-11, 1.0000000e+00],\n",
       "       ...,\n",
       "       [1.5704966e-25, 1.1061662e-27, 5.6181532e-20, ..., 8.3454397e-23,\n",
       "        1.4113075e-23, 1.9233529e-26],\n",
       "       [6.6531893e-12, 5.8766689e-17, 1.5974376e-13, ..., 3.1536603e-12,\n",
       "        4.9298396e-09, 9.9999893e-01],\n",
       "       [6.0859799e-16, 1.5458385e-29, 1.0000000e+00, ..., 2.8933170e-17,\n",
       "        5.9240911e-20, 5.6279418e-25]], dtype=float32)"
      ]
     },
     "execution_count": 13,
     "metadata": {},
     "output_type": "execute_result"
    }
   ],
   "source": [
    "predictions"
   ]
  },
  {
   "cell_type": "code",
   "execution_count": 14,
   "metadata": {
    "execution": {
     "iopub.execute_input": "2020-08-08T22:31:12.873240Z",
     "iopub.status.busy": "2020-08-08T22:31:12.872352Z",
     "iopub.status.idle": "2020-08-08T22:31:12.998740Z",
     "shell.execute_reply": "2020-08-08T22:31:12.997700Z"
    },
    "papermill": {
     "duration": 0.325186,
     "end_time": "2020-08-08T22:31:12.998867",
     "exception": false,
     "start_time": "2020-08-08T22:31:12.673681",
     "status": "completed"
    },
    "tags": []
   },
   "outputs": [],
   "source": [
    "# submissions for Kaggle\n",
    "submissions=pd.DataFrame({\"ImageId\": list(range(1,len(predictions)+1)),\n",
    "                         \"Label\": np.argmax(predictions, axis=1)})\n",
    "submissions.to_csv(\"my_submissions.csv\", index=False, header=True)"
   ]
  }
 ],
 "metadata": {
  "kernelspec": {
   "display_name": "Python 3",
   "language": "python",
   "name": "python3"
  },
  "language_info": {
   "codemirror_mode": {
    "name": "ipython",
    "version": 3
   },
   "file_extension": ".py",
   "mimetype": "text/x-python",
   "name": "python",
   "nbconvert_exporter": "python",
   "pygments_lexer": "ipython3",
   "version": "3.7.6"
  },
  "papermill": {
   "duration": 175.854724,
   "end_time": "2020-08-08T22:31:14.181388",
   "environment_variables": {},
   "exception": null,
   "input_path": "__notebook__.ipynb",
   "output_path": "__notebook__.ipynb",
   "parameters": {},
   "start_time": "2020-08-08T22:28:18.326664",
   "version": "2.1.0"
  }
 },
 "nbformat": 4,
 "nbformat_minor": 4
}
